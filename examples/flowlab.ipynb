{
 "cells": [
  {
   "cell_type": "markdown",
   "metadata": {},
   "source": [
    "# Flow tests"
   ]
  },
  {
   "cell_type": "code",
   "execution_count": 10,
   "metadata": {
    "pycharm": {
     "name": "#%%\n"
    }
   },
   "outputs": [
    {
     "name": "stdout",
     "output_type": "stream",
     "text": [
      "Protocol Protocol_8 defined over <Apparatus Synthesizer>\n"
     ]
    },
    {
     "data": {
      "text/plain": "VBox(children=(HTML(value='<h3>Experiment 2021_10_04_16_36_40_7c52d612</h3>'), HBox(children=(Button(descripti…",
      "application/vnd.jupyter.widget-view+json": {
       "version_major": 2,
       "version_minor": 0,
       "model_id": "a4b6c5d14d894f609a0aa97570be69a9"
      }
     },
     "metadata": {},
     "output_type": "display_data"
    }
   ],
   "source": [
    "import mechwolf as mw\n",
    "import os\n",
    "\n",
    "os.environ[\"PATH\"]  += os.pathsep + r\"C:\\UserApps\\PyMOL.app\\envs\\MechWolf\\Library\\bin\\graphviz\"\n",
    "\n",
    "# Two feeds\n",
    "substrate = mw.Vessel(\"p-iodobenzotrifluoride 1M in DMAc\", name=\"substrate\")\n",
    "sulfinate = mw.Vessel(\"p-toluensulfinate 2M in DMAc\", name=\"sulfinate\")\n",
    "\n",
    "# Two pumps\n",
    "substrate_pump = mw.KnauerPump(name=\"substrate_pump\", mac_address = '00:80:a3:ce:7e:15')\n",
    "sulfinate_pump = mw.KnauerPump(name=\"sulfinate_pump\", mac_address = '00:80:a3:ba:bf:e2')\n",
    "\n",
    "# Mixer\n",
    "mixer = mw.TMixer(name='mixer')\n",
    "\n",
    "# Reactor\n",
    "reactor = mw.Vessel(\"Photoreactor\", name=\"reactor\")\n",
    "\n",
    "# Analytics\n",
    "# nmr = mw.Spinsolve(name=\"Proton\")\n",
    "\n",
    "A = mw.Apparatus(\"Synthesizer\")\n",
    "\n",
    "def tefzel(len):\n",
    "    return mw.Tube(length=len, ID=\"1.0 mm\", OD=\"1/16 in\", material=\"Tefzel\")\n",
    "\n",
    "# TUBING\n",
    "\n",
    "# bottle to pump\n",
    "A.add(substrate, substrate_pump, tefzel(\"20 cm\"))\n",
    "A.add(sulfinate, sulfinate_pump, tefzel(\"20 cm\"))\n",
    "\n",
    "# Pump to mixer\n",
    "A.add([substrate_pump, sulfinate_pump] , mixer, tefzel(\"20 cm\"))\n",
    "\n",
    "# Mixer to reactor\n",
    "A.add(mixer, reactor, tefzel(\"20 cm\"))\n",
    "\n",
    "A.describe()\n",
    "A.visualize(graph_attr=dict(splines=\"ortho\", nodesep=\"0.75\"), label_tubes=False)\n",
    "\n",
    "P = mw.Protocol(A)\n",
    "\n",
    "from datetime import timedelta\n",
    "\n",
    "rinse_duration = timedelta(seconds=2)\n",
    "start = timedelta(seconds=0)\n",
    "\n",
    "# P.add([substrate_pump, sulfinate_pump], start=start, duration=rinse_duration, setting=\"dmf\")\n",
    "P.add([substrate_pump, sulfinate_pump], start=start, duration=rinse_duration, rate=\"1 mL/min\")\n",
    "\n",
    "P.visualize()\n",
    "print(P)\n",
    "\n",
    "E = P.execute(dry_run=False)"
   ]
  },
  {
   "cell_type": "code",
   "execution_count": 11,
   "metadata": {
    "pycharm": {
     "name": "#%%\n"
    }
   },
   "outputs": [
    {
     "ename": "AttributeError",
     "evalue": "'Experiment' object has no attribute 'visualize'",
     "output_type": "error",
     "traceback": [
      "\u001B[1;31m---------------------------------------------------------------------------\u001B[0m",
      "\u001B[1;31mAttributeError\u001B[0m                            Traceback (most recent call last)",
      "\u001B[1;32m~\\AppData\\Local\\Temp/ipykernel_3168/919169141.py\u001B[0m in \u001B[0;36m<module>\u001B[1;34m\u001B[0m\n\u001B[0;32m      1\u001B[0m \u001B[1;31m#Visualize the experiment with live updating\u001B[0m\u001B[1;33m\u001B[0m\u001B[1;33m\u001B[0m\u001B[0m\n\u001B[1;32m----> 2\u001B[1;33m \u001B[0mE\u001B[0m\u001B[1;33m.\u001B[0m\u001B[0mvisualize\u001B[0m\u001B[1;33m(\u001B[0m\u001B[1;33m)\u001B[0m\u001B[1;33m\u001B[0m\u001B[1;33m\u001B[0m\u001B[0m\n\u001B[0m\u001B[0;32m      3\u001B[0m \u001B[1;33m\u001B[0m\u001B[0m\n",
      "\u001B[1;31mAttributeError\u001B[0m: 'Experiment' object has no attribute 'visualize'"
     ]
    }
   ],
   "source": [
    "#Visualize the experiment with live updating\n",
    "E.visualize()"
   ]
  },
  {
   "cell_type": "code",
   "execution_count": null,
   "metadata": {
    "pycharm": {
     "name": "#%%\n"
    }
   },
   "outputs": [],
   "source": [
    "#Inspect the protocol steps that ran successfully.\n",
    "E.protocol.json()"
   ]
  }
 ],
 "metadata": {
  "kernelspec": {
   "display_name": "Python 3 (ipykernel)",
   "language": "python",
   "name": "python3"
  },
  "language_info": {
   "codemirror_mode": {
    "name": "ipython",
    "version": 3
   },
   "file_extension": ".py",
   "mimetype": "text/x-python",
   "name": "python",
   "nbconvert_exporter": "python",
   "pygments_lexer": "ipython3",
   "version": "3.9.7"
  }
 },
 "nbformat": 4,
 "nbformat_minor": 1
}